{
  "nbformat": 4,
  "nbformat_minor": 0,
  "metadata": {
    "colab": {
      "name": "Textclassification",
      "provenance": [],
      "collapsed_sections": []
    },
    "kernelspec": {
      "name": "python3",
      "display_name": "Python 3"
    },
    "language_info": {
      "name": "python"
    }
  },
  "cells": [
    {
      "cell_type": "code",
      "source": [
        "from google.colab import drive\n",
        "drive.mount('/gdrive')"
      ],
      "metadata": {
        "colab": {
          "base_uri": "https://localhost:8080/"
        },
        "id": "0LpRJhNBFAE_",
        "outputId": "081cd875-c3fe-416d-be6d-b9606aac7ae2"
      },
      "execution_count": 54,
      "outputs": [
        {
          "output_type": "stream",
          "name": "stdout",
          "text": [
            "Drive already mounted at /gdrive; to attempt to forcibly remount, call drive.mount(\"/gdrive\", force_remount=True).\n"
          ]
        }
      ]
    },
    {
      "cell_type": "code",
      "source": [
        "import numpy as np\n",
        "from sklearn.datasets import fetch_20newsgroups\n",
        "from sklearn.feature_extraction.text import TfidfVectorizer\n",
        "from sklearn.feature_extraction.text import TfidfTransformer\n",
        "from sklearn.naive_bayes import MultinomialNB\n",
        "from sklearn.pipeline import Pipeline\n",
        "from sklearn.linear_model import SGDClassifier\n",
        "from sklearn import metrics\n",
        "from sklearn.model_selection import GridSearchCV"
      ],
      "metadata": {
        "id": "n8VANTkAJnFa"
      },
      "execution_count": 201,
      "outputs": []
    },
    {
      "cell_type": "markdown",
      "source": [
        "\n",
        "##**Loading the 20 newsgroups dataset**\n",
        "\n",
        "---\n",
        "\n"
      ],
      "metadata": {
        "id": "POdT-ztWdq5h"
      }
    },
    {
      "cell_type": "code",
      "source": [
        "data= fetch_20newsgroups()\n",
        "data.target_names"
      ],
      "metadata": {
        "colab": {
          "base_uri": "https://localhost:8080/"
        },
        "id": "N5ZFUnKaO57_",
        "outputId": "4e420ef2-6a22-4a67-fa12-0dfb21ec0d3a"
      },
      "execution_count": 101,
      "outputs": [
        {
          "output_type": "execute_result",
          "data": {
            "text/plain": [
              "['alt.atheism',\n",
              " 'comp.graphics',\n",
              " 'comp.os.ms-windows.misc',\n",
              " 'comp.sys.ibm.pc.hardware',\n",
              " 'comp.sys.mac.hardware',\n",
              " 'comp.windows.x',\n",
              " 'misc.forsale',\n",
              " 'rec.autos',\n",
              " 'rec.motorcycles',\n",
              " 'rec.sport.baseball',\n",
              " 'rec.sport.hockey',\n",
              " 'sci.crypt',\n",
              " 'sci.electronics',\n",
              " 'sci.med',\n",
              " 'sci.space',\n",
              " 'soc.religion.christian',\n",
              " 'talk.politics.guns',\n",
              " 'talk.politics.mideast',\n",
              " 'talk.politics.misc',\n",
              " 'talk.religion.misc']"
            ]
          },
          "metadata": {},
          "execution_count": 101
        }
      ]
    },
    {
      "cell_type": "code",
      "source": [
        "categories = ['talk.politics.guns', 'sci.crypt','talk.religion.misc', 'rec.autos']"
      ],
      "metadata": {
        "id": "qGQArl6zKoGC"
      },
      "execution_count": 67,
      "outputs": []
    },
    {
      "cell_type": "markdown",
      "source": [
        "##**Displaying the file content**"
      ],
      "metadata": {
        "id": "9zJvNxzApsP8"
      }
    },
    {
      "cell_type": "code",
      "source": [
        "twenty_train = fetch_20newsgroups(subset='train',categories=categories, shuffle=True, random_state=42)\n",
        "print(twenty_train.data[7])"
      ],
      "metadata": {
        "colab": {
          "base_uri": "https://localhost:8080/"
        },
        "id": "LoGV1rtBKiW5",
        "outputId": "a4351f35-bb07-4a30-eb9f-b7706a66e3d4"
      },
      "execution_count": 223,
      "outputs": [
        {
          "output_type": "stream",
          "name": "stdout",
          "text": [
            "From: CPKJP@vm.cc.latech.edu (Kevin Parker)\n",
            "Subject: Insurance Rates on Performance Cars SUMMARY\n",
            "Organization: Louisiana Tech University\n",
            "Lines: 244\n",
            "NNTP-Posting-Host: vm.cc.latech.edu\n",
            "X-Newsreader: NNR/VM S_1.3.2\n",
            "\n",
            "     I recently posted an article asking what kind of rates single, male\n",
            "drivers under 25 yrs old were paying on performance cars. Here's a summary of\n",
            "the replies I received.\n",
            " \n",
            " \n",
            " \n",
            " \n",
            "-------------------------------------------------------------------------------\n",
            " \n",
            "I'm not under 25 anymore (but is 27 close enough).\n",
            " \n",
            "1992 Dodge Stealth RT/Twin Turbo (300hp model).\n",
            "No tickets, no accidents, own a house, have taken defensive driving 1,\n",
            "airbag, abs, security alarm, single.\n",
            " \n",
            "$1500/year  $500 decut. State Farm Insurance (this includes the additional $100\n",
            "for the $1,000,000 umbrella policy over my car and house)  The base\n",
            "policy is the standard $100,000 - $100,000 - $300,000 policy required in DE.\n",
            " \n",
            "After 2nd defensive driving course it will be 5% less.\n",
            " \n",
            "I bought the car in September 1992.  The company I was with (never had\n",
            "and accident or ticket in 11 years) quoted me $2,500.\n",
            " \n",
            "Hope this helps.\n",
            " \n",
            "Steve Flynn\n",
            "University of Delaware\n",
            "======================================================================== 45\n",
            " \n",
            "    Kevin:\n",
            " \n",
            "    (Hope I remembered your name correctly)...\n",
            " \n",
            "    You asked about insurance for performance cars.  Well, last year\n",
            "    I was in a similar situation before I bought my car, and made the\n",
            "    same inquiry as you.\n",
            " \n",
            "    Age: 24 (then and now)\n",
            "    Car: 1992 Eagle Talon TSi AWD\n",
            "    Driving Record: Clean\n",
            "    State: Illinois\n",
            "    Cost: $820/6 mos.\n",
            " \n",
            "    I turn 25 in May and the insurance goes down to $520/6 mos.\n",
            "    Also, I'm single and that incurs a higher rate with my company.\n",
            " \n",
            "    I've got a couple other friends w/ AWDs and they pay more\n",
            "    than I do (different ins. companies also), so maybe I'm just lucky.\n",
            " \n",
            "    Hope the info helps.\n",
            " \n",
            "    Dan\n",
            "    [dans@jdc.gss.mot.com]\n",
            "    Motorola Cellular Subscriber Group\n",
            " \n",
            "======================================================================== 38\n",
            " USA\n",
            "Cc:\n",
            " \n",
            "I'm 23; live in Norman, Oklahoma; drive an '89 Thunderbird SC; have\n",
            "never made a claim against my insurance (though I have been hit\n",
            "several times by negligent drivers who couldn't see stop signs or\n",
            "were fiddling with their radios); and I have had three moving violations\n",
            "in the last 18 months (one for going 85 in a 55; one for \"failure to\n",
            "clear an intersection\" (I still say the damn light was yellow); and\n",
            "one for going 35 in a 25 (which didn't go on my record)). My rates\n",
            "from State Farm (with a passive restraint deduction) on liability,\n",
            "$500 deductible comprehensive, and $500 deductible collision are\n",
            "roughly $1300/year. (I was paying just over $1100/year for a '92 Escort LX.)\n",
            " \n",
            "\t\t\t\tJames\n",
            " \n",
            "James P. Callison    Microcomputer Coordinator, U of Oklahoma Law Center\n",
            "Callison@uokmax.ecn.uoknor.edu   /\\    Callison@aardvark.ucs.uoknor.edu\n",
            "DISCLAIMER: I'm not an engineer, but I play one at work...\n",
            "\t\tThe forecast calls for Thunder...'89 T-Bird SC\n",
            "   \"It's a hell of a thing, killing a man. You take away all he has\n",
            "\tand all he's ever gonna have.\"\n",
            "\t\t\t--Will Munny, \"Unforgiven\"\n",
            "======================================================================== 61\n",
            " \n",
            "I am beyond the \"under 25\" age group, but I have an experience a few\n",
            "years ago that might be interesting to you.  I owned a 1985 Toyota Celica\n",
            "GT.  I decided to buy myself a gift - a more exotic car.  Front runners\n",
            "included the Toyota Supra Turbo and the Porsche 924 (1987 model years).\n",
            "I narrowed it down to those two.  I liked the simplicity and handling\n",
            "(and snob appeal, too) of driving a Porsche.  The Supra Turbo was less\n",
            "money and had more features and performance - almost a personal luxury\n",
            "car.  It had better acceleration and a higher top speed than the 924.\n",
            "I was almost ready to give in to a buying impulse for the 924, but i\n",
            "decided to stop by my insurance agent's office on the way.  I asked\n",
            "about what would happen to my rate with either car.\n",
            " \n",
            "\"If you buy the Supra, your rate classification will be the same as\n",
            "the Celica (the '85 Celica was considered a subcompact and for that\n",
            "year was rated as one of the safest cars), with a slight increase because\n",
            "the car will be 2 years newer.  Our lower-risk division will continue\n",
            "to handle your account.\n",
            " \n",
            "\"If you buy the Porsche 924, we'll have to change you to the standard\n",
            "[higher] rate company and your rate will double.  And if you go with\n",
            "a 944, it's another story again - we'll cover the rest of this year,\n",
            "but cancel you after that.\"\n",
            " \n",
            "\"But the Supra is much faster than the 924, and the 924 is actually\n",
            "faster than the [standard] 944.  That doens't make sense.\"\n",
            " \n",
            " That's what the book says.  We don't insure Corvettes, either.  For\n",
            "some reason, the underwriters consider Supras - and their drivers -\n",
            "as very traditional and conservative.\"\n",
            " \n",
            "I eventually went with the Supra for a number of reasons.  The Porsche\n",
            "dealer had a nice salesman to get me interested, but a tough high-pressure\n",
            "guy in the back room.  At equal monthly payments, it would have taken\n",
            "a year longer to pay for the Porsche, plus its higher insurance.  I\n",
            "concluded that the high insurance was related to probability of auto\n",
            "theft.\n",
            " \n",
            "   /|/| /||)|/  /~ /\\| |\\|)[~|)/~   |   Everyone's entitled to MY opinion.\n",
            "  / | |/ ||\\|\\  \\_|\\/|_|/|)[_|\\\\_|  |      goldberg@oasys.dt.navy.mil\n",
            "========Imagination is more important than knowledge. - Albert Einstein=======\n",
            " \n",
            " \n",
            " \n",
            " \n",
            " \n",
            "======================================================================== 32\n",
            " \n",
            "I live in Idaho.  When I was <26 many years ago (10 years) I bought a Trans\n",
            "Am (new).  Insurance was about $1300/year.  When I turned 26, it immediately\n",
            "dropped to $460/year.  I had not had any accidents before or after, this was\n",
            "strictly an age change.  That same rate stayed pretty much the same until I\n",
            "sold the car 2 years ago.  My F-150 pickup is about $80/year less.\n",
            " \n",
            "The real amazing thing is that when I woke up at age 25, I felt SO MUCH MORE\n",
            "RESPONSIBLE than I was before...  :-)\n",
            " \n",
            "Wes\n",
            " \n",
            "======================================================================== 21\n",
            " \n",
            " \n",
            "For your information:\n",
            "California\n",
            "Male, single, under 25 , No moving violation\n",
            "Alfa Spider\n",
            "     =======> $2000 / year\n",
            " \n",
            "What a bargain!!!\n",
            "======================================================================== 28\n",
            " \n",
            "Let's see, I'm 24, single, male, clean driving record. I have a 92 VW COrrado\n",
            "VR6. I live in San Jose, California. I pay ~1500$ a year through Allstate. A\n",
            "good deal if you ask me.\n",
            " \n",
            "I was thinking about getting a Talon, but I think the insurance is higher\n",
            "for a \"turbo\" sports car vs a V6\n",
            " \n",
            "-W\n",
            " \n",
            "======================================================================== 27\n",
            " \n",
            "1986 Honda CRX Si, clean record, in a small New Mexico town was around $800\n",
            "per year, age 24.\n",
            " \n",
            "Nearby city rates were 1.5X-2X higher than where I've got mine insured.\n",
            " \n",
            "..robert\n",
            "--\n",
            "Robert Stack / Institute of Transportation Studies, Univ of California-Irvine\n",
            "               stack@translab.its.uci.edu   '92 Mazda Protege LX\n",
            "======================================================================== 37\n",
            "1300 per year, 1992 Saturn SC, 21 Years old, State: New Mexico,\n",
            "Insurance: State Farm.\n",
            " \n",
            " \n",
            "======================================================================== 64\n",
            " \n",
            " \n",
            "Here is my info:\n",
            " \n",
            "Car             : '89 Toyota Celica ST\n",
            "Insurance Co    : Farmer's Insurance\n",
            "Yearly insurance: $2028\n",
            "Age             : 24\n",
            "Date of license : Oct 14, 1992\n",
            "Residence       : Mountain View, California\n",
            "No moving violations (for now atleast ;-)\n",
            " \n",
            "Hope this helps. Please post a summary if possible.\n",
            " \n",
            "Vijay\n",
            "**********************************************************************\n",
            "Vijay Anisetti\n",
            "Email: anisetti@informix.com   Apt: (415)962-0320   Off: (415)926-6547\n",
            "======================================================================== 38\n",
            "Single, 24 years old, Eagle Talon Turbo AWD, $1200 (full-cover, reasonable\n",
            " liability)\n",
            "No tickets, No violations, No accidents... (knock on wood...)\n",
            "Mass,\n",
            " \n",
            "\tOne thing that makes a HUGE difference in MASS is the town you live in.\n",
            "I'm personally in one of the best towns within reasonable distance\n",
            "of Boston.  If I moved to the absolute best it would go down to about\n",
            "$1150, if I moved to the worst it would be $2000+..\n",
            " \n",
            "\tAlso one accident and a couple of tickets, would probably add another $600...\n",
            " \n",
            " \n",
            "\t_RV\n",
            " \n",
            " \n",
            "======================================================================== 43\n",
            "I have a 1990 Mitsubishi eclipse turbo awd, am 23 years old and have no\n",
            "tickets that went on my record.  I live in Illinois just outside of Chicago\n",
            "and pay $1560 a year with full coverage at State Farm.  I did get a small\n",
            "discount because of my alarm system($30 a year).  I only live 15 miles from\n",
            "Chicago but if I actually lived in the city the price would be about $2000\n",
            "a year.\n",
            "======================================================================== 41\n",
            "I'm over 25, but in case you're interested anyway, I'm insuring a 93 SHO\n",
            "for $287/6 month.  Thats 100k personal+300k total+100k property with\n",
            "250 deductible, glass and towing, State Farm.\n",
            " \n",
            "======================================================================== 39\n",
            " \n",
            "Unless you are under 20 or have been driving for less than 5\n",
            "years, I think you are being seriously ripped off.  I don't have\n",
            "one of the performance cars you listed, but if your record is\n",
            "clean, then you should not be paying over $2K.\n",
            " \n",
            "Did you try calling all the insurance dealers you could find?\n",
            "Although rates are supposed to be standardized, I've found that\n",
            "most places I initially call, give me some ridiculously high\n",
            "quote and *finaly*, I hit one that is much lower.\n",
            " \n",
            "Also, I have changed insurance companies when the rate went up at\n",
            "renewal (no accidents, tickets, car gets older??) to maintain a low\n",
            "rate.  You always have to be careful when it comes to insurance\n",
            "companies 8^).\n",
            " \n",
            "Good luck,\n",
            "Serge\n",
            "\n"
          ]
        }
      ]
    },
    {
      "cell_type": "code",
      "source": [
        "twenty_train.target_names"
      ],
      "metadata": {
        "colab": {
          "base_uri": "https://localhost:8080/"
        },
        "id": "yG--iqmILBA-",
        "outputId": "03e7dd8b-4077-48c8-9e54-707e4aa3f73d"
      },
      "execution_count": 69,
      "outputs": [
        {
          "output_type": "execute_result",
          "data": {
            "text/plain": [
              "['rec.autos', 'sci.crypt', 'talk.politics.guns', 'talk.religion.misc']"
            ]
          },
          "metadata": {},
          "execution_count": 69
        }
      ]
    },
    {
      "cell_type": "code",
      "source": [
        "len(twenty_train.data)"
      ],
      "metadata": {
        "colab": {
          "base_uri": "https://localhost:8080/"
        },
        "id": "GLN6yeM9LEsC",
        "outputId": "a816976e-4687-4d36-a00b-804f355d8cc8"
      },
      "execution_count": 70,
      "outputs": [
        {
          "output_type": "execute_result",
          "data": {
            "text/plain": [
              "2112"
            ]
          },
          "metadata": {},
          "execution_count": 70
        }
      ]
    },
    {
      "cell_type": "code",
      "source": [
        "len(twenty_train.filenames)"
      ],
      "metadata": {
        "colab": {
          "base_uri": "https://localhost:8080/"
        },
        "id": "sUM0s513LHf0",
        "outputId": "d20e685e-18cb-41c0-e841-dc30f1ec9c86"
      },
      "execution_count": 71,
      "outputs": [
        {
          "output_type": "execute_result",
          "data": {
            "text/plain": [
              "2112"
            ]
          },
          "metadata": {},
          "execution_count": 71
        }
      ]
    },
    {
      "cell_type": "code",
      "source": [
        "print(\"\\n\".join(twenty_train.data[3].split(\"\\n\")[:3]))"
      ],
      "metadata": {
        "colab": {
          "base_uri": "https://localhost:8080/"
        },
        "id": "5t3YFyNILK9z",
        "outputId": "60c4707c-12b6-46e2-dafe-f3cd7d98e664"
      },
      "execution_count": 74,
      "outputs": [
        {
          "output_type": "stream",
          "name": "stdout",
          "text": [
            "From: karn@servo.qualcomm.com (Phil Karn)\n",
            "Subject: Re: Keeping Your Mouth Shut (was: Hard drive security)\n",
            "Nntp-Posting-Host: servo.qualcomm.com\n"
          ]
        }
      ]
    },
    {
      "cell_type": "code",
      "source": [
        "print(twenty_train.target_names[twenty_train.target[0]])"
      ],
      "metadata": {
        "colab": {
          "base_uri": "https://localhost:8080/"
        },
        "id": "QW4dwbDRLOd-",
        "outputId": "1f11cdb9-9486-41b7-a731-a066bbff9c78"
      },
      "execution_count": 75,
      "outputs": [
        {
          "output_type": "stream",
          "name": "stdout",
          "text": [
            "talk.politics.guns\n"
          ]
        }
      ]
    },
    {
      "cell_type": "code",
      "source": [
        "twenty_train.target[:10]"
      ],
      "metadata": {
        "colab": {
          "base_uri": "https://localhost:8080/"
        },
        "id": "tZ0yi3PmLm13",
        "outputId": "3408027e-fb85-4a4d-e508-fb57077b6977"
      },
      "execution_count": 76,
      "outputs": [
        {
          "output_type": "execute_result",
          "data": {
            "text/plain": [
              "array([2, 2, 1, 1, 2, 0, 3, 0, 2, 1])"
            ]
          },
          "metadata": {},
          "execution_count": 76
        }
      ]
    },
    {
      "cell_type": "code",
      "source": [
        "for t in twenty_train.target[:10]:\n",
        " print(twenty_train.target_names[t])"
      ],
      "metadata": {
        "colab": {
          "base_uri": "https://localhost:8080/"
        },
        "id": "OaZ2mbmLLqOP",
        "outputId": "67e7b6f2-0559-41f1-f08f-a30131a5acb2"
      },
      "execution_count": 81,
      "outputs": [
        {
          "output_type": "stream",
          "name": "stdout",
          "text": [
            "talk.politics.guns\n",
            "talk.politics.guns\n",
            "sci.crypt\n",
            "sci.crypt\n",
            "talk.politics.guns\n",
            "rec.autos\n",
            "talk.religion.misc\n",
            "rec.autos\n",
            "talk.politics.guns\n",
            "sci.crypt\n"
          ]
        }
      ]
    },
    {
      "cell_type": "markdown",
      "source": [
        "##**Tokenizing text with Tfidfvectorizer**"
      ],
      "metadata": {
        "id": "PDkrHjDpqYPC"
      }
    },
    {
      "cell_type": "code",
      "source": [
        "tfidf_vect = TfidfVectorizer()\n",
        "X_train_tfidf = tfidf_vect.fit_transform(twenty_train.data)\n",
        "X_train_tfidf.shape\n",
        "\n"
      ],
      "metadata": {
        "colab": {
          "base_uri": "https://localhost:8080/"
        },
        "id": "jmyhcGJgMU-Y",
        "outputId": "6314700e-252b-4e84-e1ef-f3fe3c5a444c"
      },
      "execution_count": 152,
      "outputs": [
        {
          "output_type": "execute_result",
          "data": {
            "text/plain": [
              "(2112, 36712)"
            ]
          },
          "metadata": {},
          "execution_count": 152
        }
      ]
    },
    {
      "cell_type": "code",
      "source": [
        "tfidf_vect.vocabulary_.get(u'algorithm')\n"
      ],
      "metadata": {
        "colab": {
          "base_uri": "https://localhost:8080/"
        },
        "id": "IHWpoW09MhLf",
        "outputId": "a73a7f62-0a71-4ce6-93e3-bbcb8a7beac1"
      },
      "execution_count": 171,
      "outputs": [
        {
          "output_type": "execute_result",
          "data": {
            "text/plain": [
              "5917"
            ]
          },
          "metadata": {},
          "execution_count": 171
        }
      ]
    },
    {
      "cell_type": "markdown",
      "source": [
        "##**Training a classifier using Multinomial NB classifier**"
      ],
      "metadata": {
        "id": "Lec9LmchrEjy"
      }
    },
    {
      "cell_type": "code",
      "source": [
        "clf = MultinomialNB().fit(X_train_tfidf, twenty_train.target)"
      ],
      "metadata": {
        "id": "WTMvK9f8Mtsa"
      },
      "execution_count": 172,
      "outputs": []
    },
    {
      "cell_type": "code",
      "source": [
        "docs_new = ['Hi, my name is Navya', 'Pursuing masters in UNCC']\n",
        "X_new_tfidf = tfidf_vect.transform(docs_new)\n",
        "predicted = clf.predict(X_new_tfidf)\n",
        "for doc, category in zip(docs_new, predicted):print('%r => %s' % (doc, twenty_train.target_names[category]))"
      ],
      "metadata": {
        "colab": {
          "base_uri": "https://localhost:8080/"
        },
        "id": "RaJMF59ONKJ3",
        "outputId": "b3effaee-e6e4-4be1-911d-e48474e4606e"
      },
      "execution_count": 175,
      "outputs": [
        {
          "output_type": "stream",
          "name": "stdout",
          "text": [
            "'Hi, my name is Navya' => rec.autos\n",
            "'Pursuing masters in UNCC' => sci.crypt\n"
          ]
        }
      ]
    },
    {
      "cell_type": "markdown",
      "source": [
        "##**Building a pipeline to vectorized data with a classifier**"
      ],
      "metadata": {
        "id": "1gHMjrKLrb1f"
      }
    },
    {
      "cell_type": "code",
      "source": [
        "\n",
        "text_clf = Pipeline([('vect', TfidfVectorizer()),('clf', MultinomialNB()),])"
      ],
      "metadata": {
        "id": "VwCKpQhwOpkq"
      },
      "execution_count": 190,
      "outputs": []
    },
    {
      "cell_type": "code",
      "source": [
        "text_clf.fit(twenty_train.data, twenty_train.target)\n"
      ],
      "metadata": {
        "colab": {
          "base_uri": "https://localhost:8080/"
        },
        "id": "750ncp-SPFGS",
        "outputId": "711a54b8-aa21-423c-9704-575e5572871f"
      },
      "execution_count": 191,
      "outputs": [
        {
          "output_type": "execute_result",
          "data": {
            "text/plain": [
              "Pipeline(steps=[('vect', TfidfVectorizer()), ('clf', MultinomialNB())])"
            ]
          },
          "metadata": {},
          "execution_count": 191
        }
      ]
    },
    {
      "cell_type": "markdown",
      "source": [
        "##**Evaluation of the performance on the test set**\n"
      ],
      "metadata": {
        "id": "He5g1wX_rs8I"
      }
    },
    {
      "cell_type": "code",
      "source": [
        "twenty_test = fetch_20newsgroups(subset='test', categories=categories, shuffle=True, random_state=42)\n",
        "docs_test = twenty_test.data\n",
        "predicted = text_clf.predict(docs_test)\n",
        "np.mean(predicted == twenty_test.target)"
      ],
      "metadata": {
        "colab": {
          "base_uri": "https://localhost:8080/"
        },
        "id": "HI02i4WtPhqK",
        "outputId": "eaa5ef43-ea2b-43f7-f26c-a540356cde3e"
      },
      "execution_count": 192,
      "outputs": [
        {
          "output_type": "execute_result",
          "data": {
            "text/plain": [
              "0.8798862828713575"
            ]
          },
          "metadata": {},
          "execution_count": 192
        }
      ]
    },
    {
      "cell_type": "code",
      "source": [
        "text_clf = Pipeline([('vect', TfidfVectorizer()),\n",
        "                     ('clf', SGDClassifier(loss='hinge', penalty='l2',\n",
        "                      alpha=1e-3, random_state=42,\n",
        "                      max_iter=5, tol=None)),\n",
        "                     ])"
      ],
      "metadata": {
        "id": "tHjpVOImPuDO"
      },
      "execution_count": 193,
      "outputs": []
    },
    {
      "cell_type": "code",
      "source": [
        "text_clf.fit(twenty_train.data, twenty_train.target)"
      ],
      "metadata": {
        "colab": {
          "base_uri": "https://localhost:8080/"
        },
        "id": "oiGaEMzsQl44",
        "outputId": "90666259-397d-4f26-cab3-cb3bccae26ba"
      },
      "execution_count": 194,
      "outputs": [
        {
          "output_type": "execute_result",
          "data": {
            "text/plain": [
              "Pipeline(steps=[('vect', TfidfVectorizer()),\n",
              "                ('clf',\n",
              "                 SGDClassifier(alpha=0.001, max_iter=5, random_state=42,\n",
              "                               tol=None))])"
            ]
          },
          "metadata": {},
          "execution_count": 194
        }
      ]
    },
    {
      "cell_type": "code",
      "source": [
        "predicted = text_clf.predict(docs_test)\n",
        "np.mean(predicted == twenty_test.target)"
      ],
      "metadata": {
        "colab": {
          "base_uri": "https://localhost:8080/"
        },
        "id": "T45z6TLbQops",
        "outputId": "4988cefd-eafe-41ff-cac4-49a94e1a32a4"
      },
      "execution_count": 195,
      "outputs": [
        {
          "output_type": "execute_result",
          "data": {
            "text/plain": [
              "0.9474058280028429"
            ]
          },
          "metadata": {},
          "execution_count": 195
        }
      ]
    },
    {
      "cell_type": "code",
      "source": [
        "print(metrics.classification_report(twenty_test.target, predicted,target_names=twenty_test.target_names))"
      ],
      "metadata": {
        "colab": {
          "base_uri": "https://localhost:8080/"
        },
        "id": "Bv9ZVfriQ2qL",
        "outputId": "521fe017-0f19-4d7c-8bc9-c26d14cd70a3"
      },
      "execution_count": 196,
      "outputs": [
        {
          "output_type": "stream",
          "name": "stdout",
          "text": [
            "                    precision    recall  f1-score   support\n",
            "\n",
            "         rec.autos       0.90      1.00      0.95       396\n",
            "         sci.crypt       0.98      0.95      0.97       396\n",
            "talk.politics.guns       0.96      0.93      0.94       364\n",
            "talk.religion.misc       0.96      0.88      0.92       251\n",
            "\n",
            "          accuracy                           0.95      1407\n",
            "         macro avg       0.95      0.94      0.94      1407\n",
            "      weighted avg       0.95      0.95      0.95      1407\n",
            "\n"
          ]
        }
      ]
    },
    {
      "cell_type": "code",
      "source": [
        "parameters = {'vect__ngram_range': [(1, 1), (1, 2)],'clf__alpha': (1e-2, 1e-3),}"
      ],
      "metadata": {
        "id": "K8-thp2kRBKY"
      },
      "execution_count": 205,
      "outputs": []
    },
    {
      "cell_type": "code",
      "source": [
        "gs_clf = GridSearchCV(text_clf, parameters, cv=5, n_jobs=-1)"
      ],
      "metadata": {
        "id": "V_KLzLR9RO5a"
      },
      "execution_count": 206,
      "outputs": []
    },
    {
      "cell_type": "code",
      "source": [
        "gs_clf = gs_clf.fit(twenty_train.data[:400], twenty_train.target[:400])"
      ],
      "metadata": {
        "id": "HWUKQJxWRRMR"
      },
      "execution_count": 207,
      "outputs": []
    },
    {
      "cell_type": "code",
      "source": [
        "twenty_train.target_names[gs_clf.predict(['My name is Navya'])[0]]"
      ],
      "metadata": {
        "colab": {
          "base_uri": "https://localhost:8080/",
          "height": 35
        },
        "id": "cxDjUK9gRUnO",
        "outputId": "8d9b82ca-6c49-41d6-ae1a-b5217a66c140"
      },
      "execution_count": 208,
      "outputs": [
        {
          "output_type": "execute_result",
          "data": {
            "application/vnd.google.colaboratory.intrinsic+json": {
              "type": "string"
            },
            "text/plain": [
              "'rec.autos'"
            ]
          },
          "metadata": {},
          "execution_count": 208
        }
      ]
    },
    {
      "cell_type": "code",
      "source": [
        "gs_clf.best_score_"
      ],
      "metadata": {
        "colab": {
          "base_uri": "https://localhost:8080/"
        },
        "id": "Mrm10QWVRZGm",
        "outputId": "91d6be21-a998-4fd6-f188-8e2ecbb61b1c"
      },
      "execution_count": 209,
      "outputs": [
        {
          "output_type": "execute_result",
          "data": {
            "text/plain": [
              "0.925"
            ]
          },
          "metadata": {},
          "execution_count": 209
        }
      ]
    },
    {
      "cell_type": "code",
      "source": [
        "for param_name in sorted(parameters.keys()):print(\"%s: %r\" % (param_name, gs_clf.best_params_[param_name]))"
      ],
      "metadata": {
        "colab": {
          "base_uri": "https://localhost:8080/"
        },
        "id": "nkNV9AUxRc0n",
        "outputId": "74b1fb52-138f-47a9-c8f0-a37ff1b49ffa"
      },
      "execution_count": 210,
      "outputs": [
        {
          "output_type": "stream",
          "name": "stdout",
          "text": [
            "clf__alpha: 0.001\n",
            "vect__ngram_range: (1, 1)\n"
          ]
        }
      ]
    },
    {
      "cell_type": "markdown",
      "source": [
        "##**Detailed summary**"
      ],
      "metadata": {
        "id": "kYzWd2jT1Jyq"
      }
    },
    {
      "cell_type": "code",
      "source": [
        "gs_clf.cv_results_"
      ],
      "metadata": {
        "colab": {
          "base_uri": "https://localhost:8080/"
        },
        "id": "Z9tsk06GR61n",
        "outputId": "2d14e446-1c10-4a4b-de22-24d5d72cc1f4"
      },
      "execution_count": 225,
      "outputs": [
        {
          "output_type": "execute_result",
          "data": {
            "text/plain": [
              "{'mean_fit_time': array([0.20294218, 0.7544692 , 0.19458795, 0.73895764]),\n",
              " 'mean_score_time': array([0.03600707, 0.07819118, 0.03518462, 0.07582355]),\n",
              " 'mean_test_score': array([0.91 , 0.92 , 0.925, 0.92 ]),\n",
              " 'param_clf__alpha': masked_array(data=[0.01, 0.01, 0.001, 0.001],\n",
              "              mask=[False, False, False, False],\n",
              "        fill_value='?',\n",
              "             dtype=object),\n",
              " 'param_vect__ngram_range': masked_array(data=[(1, 1), (1, 2), (1, 1), (1, 2)],\n",
              "              mask=[False, False, False, False],\n",
              "        fill_value='?',\n",
              "             dtype=object),\n",
              " 'params': [{'clf__alpha': 0.01, 'vect__ngram_range': (1, 1)},\n",
              "  {'clf__alpha': 0.01, 'vect__ngram_range': (1, 2)},\n",
              "  {'clf__alpha': 0.001, 'vect__ngram_range': (1, 1)},\n",
              "  {'clf__alpha': 0.001, 'vect__ngram_range': (1, 2)}],\n",
              " 'rank_test_score': array([4, 2, 1, 2], dtype=int32),\n",
              " 'split0_test_score': array([0.85  , 0.85  , 0.8875, 0.8875]),\n",
              " 'split1_test_score': array([0.925 , 0.925 , 0.925 , 0.9125]),\n",
              " 'split2_test_score': array([0.9125, 0.95  , 0.9625, 0.9375]),\n",
              " 'split3_test_score': array([0.925 , 0.925 , 0.925 , 0.9375]),\n",
              " 'split4_test_score': array([0.9375, 0.95  , 0.925 , 0.925 ]),\n",
              " 'std_fit_time': array([0.00936908, 0.03401571, 0.00971189, 0.12407844]),\n",
              " 'std_score_time': array([0.00488082, 0.00663736, 0.00448859, 0.01743999]),\n",
              " 'std_test_score': array([0.03102418, 0.03674235, 0.02371708, 0.01870829])}"
            ]
          },
          "metadata": {},
          "execution_count": 225
        }
      ]
    },
    {
      "cell_type": "code",
      "source": [
        "%%shell\n",
        "jupyter nbconvert --to html /content/drive/MyDrive/BigData/InfoFeatures.ipynb\n"
      ],
      "metadata": {
        "id": "JLmkhmFN147C"
      },
      "execution_count": 227,
      "outputs": []
    }
  ]
}